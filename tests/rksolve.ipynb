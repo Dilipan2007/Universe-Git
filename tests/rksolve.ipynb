{
 "cells": [
  {
   "cell_type": "code",
   "execution_count": null,
   "id": "6df9c2ec",
   "metadata": {},
   "outputs": [],
   "source": [
    "def make_rk_system(ode_expr, y_func, t_sym, order):\n",
    "    \"\"\"\n",
    "    Converts an nth-order ODE into a system for solve_ivp (RK45-ready).\n",
    "    \n",
    "    Parameters:\n",
    "    - ode_expr: sympy expression for y^{(n)} explicitly (e.g. y'' = RHS)\n",
    "    - y_func: sympy.Function('y')(t), the dependent variable\n",
    "    - t_sym: independent variable (usually t)\n",
    "    - order: order of the ODE (e.g., 2 for y'')\n",
    "    \n",
    "    Returns:\n",
    "    - A callable function f(t, y) for solve_ivp\n",
    "    \"\"\"\n",
    "    # Symbolic variables u0 = y, u1 = y', ..., u_{n-1} = y^{(n-1)}\n",
    "    u = sp.symbols(f'u0:{order}')  # Creates (u0, u1, ..., u_{n-1})\n",
    "\n",
    "    # Substitution map: y(t), y'(t), ... => u0, u1, ...\n",
    "    subs = {sp.diff(y_func, t_sym, i): u[i] for i in range(order)}\n",
    "    subs[y_func] = u[0]\n",
    "\n",
    "    # Construct the system: dy/dt = [u1, u2, ..., f(t, u0,...,u_{n-1})]\n",
    "    rhs_exprs = list(u[1:])  # u1, u2, ..., u_{n-2}\n",
    "    rhs_exprs.append(ode_expr.subs(subs))  # u_{n-1}' = f(t, u0,...)\n",
    "\n",
    "    # Convert to numeric function\n",
    "    rhs_func = lambdify((t_sym, u), rhs_exprs, modules='numpy')\n",
    "\n",
    "    # Return function suitable for solve_ivp\n",
    "    def system(t, y):\n",
    "        return np.array(rhs_func(t, *y), dtype=float)\n",
    "\n",
    "    return system\n"
   ]
  }
 ],
 "metadata": {
  "language_info": {
   "name": "python"
  }
 },
 "nbformat": 4,
 "nbformat_minor": 5
}
